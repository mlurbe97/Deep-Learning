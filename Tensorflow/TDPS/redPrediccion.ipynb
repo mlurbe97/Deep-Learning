{
 "cells": [
  {
   "cell_type": "code",
   "execution_count": 1,
   "metadata": {},
   "outputs": [
    {
     "name": "stderr",
     "output_type": "stream",
     "text": "/usr/local/lib/python3.6/dist-packages/tensorflow/python/framework/dtypes.py:516: FutureWarning: Passing (type, 1) or '1type' as a synonym of type is deprecated; in a future version of numpy, it will be understood as (type, (1,)) / '(1,)type'.\n  _np_qint8 = np.dtype([(\"qint8\", np.int8, 1)])\n/usr/local/lib/python3.6/dist-packages/tensorflow/python/framework/dtypes.py:517: FutureWarning: Passing (type, 1) or '1type' as a synonym of type is deprecated; in a future version of numpy, it will be understood as (type, (1,)) / '(1,)type'.\n  _np_quint8 = np.dtype([(\"quint8\", np.uint8, 1)])\n/usr/local/lib/python3.6/dist-packages/tensorflow/python/framework/dtypes.py:518: FutureWarning: Passing (type, 1) or '1type' as a synonym of type is deprecated; in a future version of numpy, it will be understood as (type, (1,)) / '(1,)type'.\n  _np_qint16 = np.dtype([(\"qint16\", np.int16, 1)])\n/usr/local/lib/python3.6/dist-packages/tensorflow/python/framework/dtypes.py:519: FutureWarning: Passing (type, 1) or '1type' as a synonym of type is deprecated; in a future version of numpy, it will be understood as (type, (1,)) / '(1,)type'.\n  _np_quint16 = np.dtype([(\"quint16\", np.uint16, 1)])\n/usr/local/lib/python3.6/dist-packages/tensorflow/python/framework/dtypes.py:520: FutureWarning: Passing (type, 1) or '1type' as a synonym of type is deprecated; in a future version of numpy, it will be understood as (type, (1,)) / '(1,)type'.\n  _np_qint32 = np.dtype([(\"qint32\", np.int32, 1)])\n/usr/local/lib/python3.6/dist-packages/tensorflow/python/framework/dtypes.py:525: FutureWarning: Passing (type, 1) or '1type' as a synonym of type is deprecated; in a future version of numpy, it will be understood as (type, (1,)) / '(1,)type'.\n  np_resource = np.dtype([(\"resource\", np.ubyte, 1)])\n/usr/local/lib/python3.6/dist-packages/tensorboard/compat/tensorflow_stub/dtypes.py:541: FutureWarning: Passing (type, 1) or '1type' as a synonym of type is deprecated; in a future version of numpy, it will be understood as (type, (1,)) / '(1,)type'.\n  _np_qint8 = np.dtype([(\"qint8\", np.int8, 1)])\n/usr/local/lib/python3.6/dist-packages/tensorboard/compat/tensorflow_stub/dtypes.py:542: FutureWarning: Passing (type, 1) or '1type' as a synonym of type is deprecated; in a future version of numpy, it will be understood as (type, (1,)) / '(1,)type'.\n  _np_quint8 = np.dtype([(\"quint8\", np.uint8, 1)])\n/usr/local/lib/python3.6/dist-packages/tensorboard/compat/tensorflow_stub/dtypes.py:543: FutureWarning: Passing (type, 1) or '1type' as a synonym of type is deprecated; in a future version of numpy, it will be understood as (type, (1,)) / '(1,)type'.\n  _np_qint16 = np.dtype([(\"qint16\", np.int16, 1)])\n/usr/local/lib/python3.6/dist-packages/tensorboard/compat/tensorflow_stub/dtypes.py:544: FutureWarning: Passing (type, 1) or '1type' as a synonym of type is deprecated; in a future version of numpy, it will be understood as (type, (1,)) / '(1,)type'.\n  _np_quint16 = np.dtype([(\"quint16\", np.uint16, 1)])\n/usr/local/lib/python3.6/dist-packages/tensorboard/compat/tensorflow_stub/dtypes.py:545: FutureWarning: Passing (type, 1) or '1type' as a synonym of type is deprecated; in a future version of numpy, it will be understood as (type, (1,)) / '(1,)type'.\n  _np_qint32 = np.dtype([(\"qint32\", np.int32, 1)])\n/usr/local/lib/python3.6/dist-packages/tensorboard/compat/tensorflow_stub/dtypes.py:550: FutureWarning: Passing (type, 1) or '1type' as a synonym of type is deprecated; in a future version of numpy, it will be understood as (type, (1,)) / '(1,)type'.\n  np_resource = np.dtype([(\"resource\", np.ubyte, 1)])\nUsing TensorFlow backend.\n"
    }
   ],
   "source": [
    "import numpy as np\n",
    "import pandas as pd\n",
    "import tensorflow as tf\n",
    "from tensorflow import keras\n",
    "\n",
    "from keras.models import Sequential\n",
    "from keras.layers import Dense\n",
    "from keras.wrappers.scikit_learn import KerasClassifier\n",
    "from keras.utils import np_utils\n",
    "\n",
    "from sklearn.model_selection import cross_val_score\n",
    "from sklearn.model_selection import KFold\n",
    "from sklearn.preprocessing import LabelEncoder\n",
    "from sklearn.pipeline import Pipeline\n",
    "from sklearn.model_selection import train_test_split"
   ]
  },
  {
   "cell_type": "code",
   "execution_count": 2,
   "metadata": {},
   "outputs": [
    {
     "name": "stdout",
     "output_type": "stream",
     "text": "Counters:\n\n[[1.31943900e+00 1.29050400e+00 1.30348400e+00 ... 6.58438130e+07\n  1.70366900e+06 2.04187930e+07]\n [1.29835700e+00 1.27056200e+00 1.29895900e+00 ... 6.43080120e+07\n  4.33270700e+06 1.93726630e+07]\n [1.28217200e+00 1.29810500e+00 1.28717600e+00 ... 7.15462400e+07\n  5.29492800e+06 1.93492280e+07]\n ...\n [1.00086100e+00 1.00314100e+00 1.00086100e+00 ... 4.48407155e+08\n  1.98159000e+06 8.73024000e+05]\n [1.00087000e+00 1.00318500e+00 1.00086900e+00 ... 4.48996860e+08\n  1.72234800e+06 8.71582000e+05]\n [1.00088000e+00 1.00676100e+00 1.00087800e+00 ... 4.48782413e+08\n  1.67138200e+06 8.62587000e+05]]\n\nDSCR values:\n\n[ 0.  0.  0. ... 71. 71. 71.]\n\nIPC label:\n\n[1.298357 1.282172 1.28414  ... 1.00087  1.00088  1.000897]\n"
    }
   ],
   "source": [
    "# Load dataset\n",
    "dataframe = pd.read_csv(\"dataset.csv\", header=0)\n",
    "dataset = dataframe.values\n",
    "\n",
    "X1 = dataset[:,1] # Get the DSCR as RAW value.\n",
    "Y = dataset[:,0].astype(float) # Get IPC label for training as Float.\n",
    "X2 = dataset[0:,2:].astype(float) # Get 4 last IPC and 16 counter values as Float.\n",
    "\n",
    "print(\"Counters:\\n\")\n",
    "print(X2)\n",
    "print(\"\\nDSCR values:\\n\")\n",
    "print(X1)\n",
    "print(\"\\nIPC label:\\n\")\n",
    "print(Y)"
   ]
  },
  {
   "cell_type": "code",
   "execution_count": 3,
   "metadata": {},
   "outputs": [
    {
     "name": "stdout",
     "output_type": "stream",
     "text": "DataFrame X1:\n         0    1    2    3\n0      1.0  0.0  0.0  0.0\n1      1.0  0.0  0.0  0.0\n2      1.0  0.0  0.0  0.0\n3      1.0  0.0  0.0  0.0\n4      1.0  0.0  0.0  0.0\n...    ...  ...  ...  ...\n23035  0.0  0.0  1.0  0.0\n23036  0.0  0.0  1.0  0.0\n23037  0.0  0.0  1.0  0.0\n23038  0.0  0.0  1.0  0.0\n23039  0.0  0.0  1.0  0.0\n\n[23040 rows x 4 columns]\nDataFrame X2:\n              0         1         2         3          4          5  \\\n0      1.319439  1.290504  1.303484  1.313838  5126536.0  2800303.0   \n1      1.298357  1.270562  1.298959  1.277435  4389713.0  3869025.0   \n2      1.282172  1.298105  1.287176  1.285875  4225052.0  3701957.0   \n3      1.284140  1.249545  1.284187  1.269528  5294369.0  2927305.0   \n4      1.276229  1.254733  1.278763  1.271525  3748437.0  4127689.0   \n...         ...       ...       ...       ...        ...        ...   \n23035  1.000843  1.003143  1.000842  1.003319    56283.0   105503.0   \n23036  1.000853  1.003033  1.000851  1.003258    56111.0   104254.0   \n23037  1.000861  1.003141  1.000861  1.003494    55964.0   101576.0   \n23038  1.000870  1.003185  1.000869  1.003536    56022.0   101314.0   \n23039  1.000880  1.006761  1.000878  1.010115    52307.0   122044.0   \n\n                6           7          8          9         10         11  \\\n0       3892497.0    562010.0  1145776.0    21842.0  7822897.0  1883040.0   \n1       3189753.0    422286.0  1853373.0    59668.0  6706668.0  1893742.0   \n2       3739205.0    403746.0  1273946.0   112744.0  7022818.0  1541527.0   \n3       5085676.0    371922.0  1888376.0   264956.0  6452352.0  1860876.0   \n4       4256164.0    563946.0  1877691.0   175370.0  7322958.0  2043449.0   \n...           ...         ...        ...        ...        ...        ...   \n23035  56539590.0  22063768.0    88054.0  7598146.0    21134.0  3761393.0   \n23036  56515214.0  22055620.0    86314.0  7600176.0    21732.0  3762098.0   \n23037  56501403.0  22054648.0    85998.0  7597338.0    21883.0  3762879.0   \n23038  56554168.0  22053050.0    86062.0  7597170.0    21550.0  3761025.0   \n23039  48405026.0  18870348.0    90133.0  7620998.0    21482.0  3772082.0   \n\n            12         13       14         15       16           17  \\\n0       9354.0  6679350.0    277.0  7108209.0  17841.0   65843813.0   \n1       9530.0  6739482.0   2322.0  7750939.0  47177.0   64308012.0   \n2      12280.0  5755166.0   6663.0  6821399.0  50473.0   71546240.0   \n3      19414.0  7503502.0   3629.0  6637542.0  98744.0   82921901.0   \n4      48430.0  5772371.0  37353.0  7396741.0  66674.0   70710033.0   \n...        ...        ...      ...        ...      ...          ...   \n23035  10888.0    21699.0  10352.0    39051.0  10352.0  448558876.0   \n23036   9912.0    21935.0  10058.0    39040.0  10575.0  448902079.0   \n23037  10000.0    21477.0  10404.0    39002.0  11976.0  448407155.0   \n23038  10568.0    21633.0  10266.0    39114.0  10878.0  448996860.0   \n23039   9550.0    21555.0  10197.0    39290.0  10542.0  448782413.0   \n\n               18          19  \n0       1703669.0  20418793.0  \n1       4332707.0  19372663.0  \n2       5294928.0  19349228.0  \n3      11407092.0  20379324.0  \n4       8365153.0  19533665.0  \n...           ...         ...  \n23035   1651995.0    871030.0  \n23036   1718312.0    871336.0  \n23037   1981590.0    873024.0  \n23038   1722348.0    871582.0  \n23039   1671382.0    862587.0  \n\n[23040 rows x 20 columns]\nDataFrame X:\n        0    1    2    3   4   5   6   7   8   9   10  11  12  13  14  15  16  \\\n0      1.0  0.0  0.0  0.0 NaN NaN NaN NaN NaN NaN NaN NaN NaN NaN NaN NaN NaN   \n1      1.0  0.0  0.0  0.0 NaN NaN NaN NaN NaN NaN NaN NaN NaN NaN NaN NaN NaN   \n2      1.0  0.0  0.0  0.0 NaN NaN NaN NaN NaN NaN NaN NaN NaN NaN NaN NaN NaN   \n3      1.0  0.0  0.0  0.0 NaN NaN NaN NaN NaN NaN NaN NaN NaN NaN NaN NaN NaN   \n4      1.0  0.0  0.0  0.0 NaN NaN NaN NaN NaN NaN NaN NaN NaN NaN NaN NaN NaN   \n...    ...  ...  ...  ...  ..  ..  ..  ..  ..  ..  ..  ..  ..  ..  ..  ..  ..   \n23035  0.0  0.0  1.0  0.0 NaN NaN NaN NaN NaN NaN NaN NaN NaN NaN NaN NaN NaN   \n23036  0.0  0.0  1.0  0.0 NaN NaN NaN NaN NaN NaN NaN NaN NaN NaN NaN NaN NaN   \n23037  0.0  0.0  1.0  0.0 NaN NaN NaN NaN NaN NaN NaN NaN NaN NaN NaN NaN NaN   \n23038  0.0  0.0  1.0  0.0 NaN NaN NaN NaN NaN NaN NaN NaN NaN NaN NaN NaN NaN   \n23039  0.0  0.0  1.0  0.0 NaN NaN NaN NaN NaN NaN NaN NaN NaN NaN NaN NaN NaN   \n\n       17  18  19  \n0     NaN NaN NaN  \n1     NaN NaN NaN  \n2     NaN NaN NaN  \n3     NaN NaN NaN  \n4     NaN NaN NaN  \n...    ..  ..  ..  \n23035 NaN NaN NaN  \n23036 NaN NaN NaN  \n23037 NaN NaN NaN  \n23038 NaN NaN NaN  \n23039 NaN NaN NaN  \n\n[23040 rows x 20 columns]\nX:\n[[ 1.  0.  0. ... nan nan nan]\n [ 1.  0.  0. ... nan nan nan]\n [ 1.  0.  0. ... nan nan nan]\n ...\n [ 0.  0.  1. ... nan nan nan]\n [ 0.  0.  1. ... nan nan nan]\n [ 0.  0.  1. ... nan nan nan]]\nLabels: 23040\nInputs: 23040\nX_Train: 16128\nX_Test: 6912\nX_Train: 16128\nX_Test: 6912\n"
    }
   ],
   "source": [
    "# Encode class DSCR as integer values\n",
    "encoder = LabelEncoder()\n",
    "encoder.fit(X1)\n",
    "encoded_X1 = encoder.transform(X1)\n",
    "\n",
    "# Convert integers to dummy variables (one hot encoded).\n",
    "dummy_x = np_utils.to_categorical(encoded_X1)\n",
    "\n",
    "# Convert to dataframe to merge columns\n",
    "dataframe_X1 = pd.DataFrame(dummy_x);\n",
    "dataframe_X2 = pd.DataFrame(X2);\n",
    "\n",
    "print(\"DataFrame X1:\")\n",
    "print(dataframe_X1)\n",
    "print(\"DataFrame X2:\")\n",
    "print(dataframe_X2)\n",
    "\n",
    "dataframe_X = pd.DataFrame.merge(dataframe_X1, dataframe_X2,how='left') # Merge model inputs\n",
    "\n",
    "print(\"DataFrame X:\")\n",
    "print(dataframe_X)\n",
    "\n",
    "# Converting back to <class 'numpy.ndarray'>\n",
    "X = dataframe_X.values;\n",
    "print(\"X:\")\n",
    "print(X)\n",
    "\n",
    "# Labels and inputs must be the same size\n",
    "print(\"Labels: \"+str(len(Y))) # Model label training input\n",
    "print(\"Inputs: \"+str(len(X))) # Model inputs\n",
    "\n",
    "# Fix random seed for reproducibility\n",
    "seed = 7\n",
    "np.random.seed(seed)\n",
    "\n",
    "# Taining and test split-> 30% test - 70% training\n",
    "X_train, X_test, Y_train, Y_test = train_test_split(X, Y, test_size=0.30, random_state=seed)\n",
    "\n",
    "# Length of train and test data\n",
    "print(\"X_Train: \"+str(len(X_train)))\n",
    "print(\"X_Test: \"+str(len(X_test)))\n",
    "print(\"X_Train: \"+str(len(Y_train)))\n",
    "print(\"X_Test: \"+str(len(Y_test)))"
   ]
  },
  {
   "cell_type": "code",
   "execution_count": null,
   "metadata": {},
   "outputs": [],
   "source": [
    "# Model definition as function\n",
    "def PC_IBM_model():\n",
    "\t# Create model\n",
    "\tmodel = Sequential()\n",
    "\t# With the actual encoding input_dim must be more than 20 because there are 4 inputs for dscr (one hot)\n",
    "\tmodel.add(Dense(8, input_dim=20, activation='relu'))\n",
    "\tmodel.add(Dense(2, activation='softmax'))\n",
    "\t# Compile model\n",
    "\tmodel.compile(loss='categorical_crossentropy', optimizer='adam', metrics=['accuracy'])\n",
    "\treturn model"
   ]
  },
  {
   "cell_type": "code",
   "execution_count": null,
   "metadata": {},
   "outputs": [],
   "source": [
    "estimator = KerasClassifier(build_fn=PC_IBM_model, epochs=200, batch_size=5, verbose=0)\n",
    "estimator.fit(X_train, Y_train);"
   ]
  },
  {
   "cell_type": "code",
   "execution_count": null,
   "metadata": {},
   "outputs": [],
   "source": [
    "kfold = KFold(n_splits=10, shuffle=True, random_state=seed)"
   ]
  },
  {
   "cell_type": "code",
   "execution_count": null,
   "metadata": {},
   "outputs": [],
   "source": [
    "results = cross_val_score(estimator, X_train, Y_train, cv=kfold)\n",
    "print(\"Baseline: %.2f%% (%.2f%%)\" % (results.mean()*100, results.std()*100))"
   ]
  },
  {
   "cell_type": "code",
   "execution_count": null,
   "metadata": {},
   "outputs": [],
   "source": [
    "predictions = estimator.predict(X_test)\n",
    "print(predictions)\n",
    "print(encoder.inverse_transform(predictions))"
   ]
  }
 ],
 "metadata": {
  "kernelspec": {
   "display_name": "Python 3",
   "language": "python",
   "name": "python3"
  },
  "language_info": {
   "codemirror_mode": {
    "name": "ipython",
    "version": 3
   },
   "file_extension": ".py",
   "mimetype": "text/x-python",
   "name": "python",
   "nbconvert_exporter": "python",
   "pygments_lexer": "ipython3",
   "version": "3.6.9-final"
  }
 },
 "nbformat": 4,
 "nbformat_minor": 2
}